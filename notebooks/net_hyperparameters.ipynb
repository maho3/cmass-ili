{
 "cells": [
  {
   "cell_type": "markdown",
   "metadata": {},
   "source": [
    "## Set Neural Network Hyperparameters\n",
    "This notebook configures the suite of possible neural network architectures for cmass.infer"
   ]
  },
  {
   "cell_type": "code",
   "execution_count": 7,
   "metadata": {},
   "outputs": [],
   "source": [
    "import numpy as np\n",
    "from tqdm import tqdm\n",
    "import yaml\n",
    "import matplotlib.pyplot as plt"
   ]
  },
  {
   "cell_type": "code",
   "execution_count": 8,
   "metadata": {},
   "outputs": [],
   "source": [
    "# set model hyperpriors\n",
    "models = [\n",
    "    'mdn',\n",
    "    'cnf',\n",
    "    'maf',\n",
    "    'nsf',\n",
    "    # 'ncsf', # only for -pi,pi\n",
    "    'nice',\n",
    "    'gf',\n",
    "    # 'sospf',# takes too long to sample\n",
    "    # 'naf',  # takes too long to sample\n",
    "    # 'unaf'  # takes too long to sample\n",
    "]\n",
    "\n",
    "# ranges set [min, max)\n",
    "hidden_features = 10, 33\n",
    "components = 1, 11\n",
    "transforms = 2, 8\n",
    "log_learning_rate = -6, -3\n",
    "log2_batch_size = 4, 8\n",
    "\n",
    "# set embedding hyperpriors\n",
    "fcn_depth = 0, 4\n",
    "fcn_width = 16, 65\n",
    "\n",
    "# set random seed\n",
    "seed = 0"
   ]
  },
  {
   "cell_type": "code",
   "execution_count": 9,
   "metadata": {},
   "outputs": [
    {
     "name": "stderr",
     "output_type": "stream",
     "text": [
      "100%|██████████| 1000/1000 [00:00<00:00, 39783.59it/s]\n"
     ]
    }
   ],
   "source": [
    "Nmodels = 1000\n",
    "np.random.seed(seed)\n",
    "\n",
    "model_cfgs = []\n",
    "for i in tqdm(range(Nmodels)):\n",
    "    m = np.random.choice(models)\n",
    "    hf = np.random.randint(*hidden_features)\n",
    "    m, hf = str(m), int(hf)\n",
    "    lr = 10**np.random.uniform(*log_learning_rate)\n",
    "    bs = int(2**np.random.uniform(*log2_batch_size))\n",
    "\n",
    "    cfg = dict(model=m, hidden_features=hf,\n",
    "               learning_rate=lr, batch_size=bs, _idx=i)\n",
    "\n",
    "    if m == 'mdn':\n",
    "        c = np.random.randint(*components)\n",
    "        cfg['num_components'] = int(c)\n",
    "    else:\n",
    "        t = np.random.randint(*transforms)\n",
    "        cfg['num_transforms'] = int(t)\n",
    "\n",
    "    fd = np.random.randint(*fcn_depth)\n",
    "    fw = np.random.randint(*fcn_width)\n",
    "    cfg['fcn_depth'] = int(fd)\n",
    "    cfg['fcn_width'] = int(fw)\n",
    "\n",
    "    model_cfgs.append(cfg)"
   ]
  },
  {
   "cell_type": "code",
   "execution_count": 10,
   "metadata": {},
   "outputs": [
    {
     "data": {
      "text/plain": [
       "<BarContainer object of 6 artists>"
      ]
     },
     "execution_count": 10,
     "metadata": {},
     "output_type": "execute_result"
    },
    {
     "data": {
      "image/png": "[encoded data removed]",
      "text/plain": [
       "<Figure size 1000x300 with 1 Axes>"
      ]
     },
     "metadata": {},
     "output_type": "display_data"
    }
   ],
   "source": [
    "# barplot of the different models\n",
    "freqs = {m: 0 for m in models}\n",
    "for cfg in model_cfgs:\n",
    "    freqs[cfg['model']] += 1\n",
    "f, ax = plt.subplots(figsize=(10, 3))\n",
    "ax.bar(freqs.keys(), freqs.values())"
   ]
  },
  {
   "cell_type": "code",
   "execution_count": 11,
   "metadata": {},
   "outputs": [],
   "source": [
    "out_file = '../cmass/conf/net/tuning.yaml'\n",
    "with open(out_file, 'w') as file:\n",
    "    yaml.dump(model_cfgs, file)"
   ]
  },
  {
   "cell_type": "code",
   "execution_count": null,
   "metadata": {},
   "outputs": [],
   "source": []
  },
  {
   "cell_type": "code",
   "execution_count": null,
   "metadata": {},
   "outputs": [],
   "source": []
  }
 ],
 "metadata": {
  "kernelspec": {
   "display_name": "Python 3",
   "language": "python",
   "name": "python3"
  },
  "language_info": {
   "codemirror_mode": {
    "name": "ipython",
    "version": 3
   },
   "file_extension": ".py",
   "mimetype": "text/x-python",
   "name": "python",
   "nbconvert_exporter": "python",
   "pygments_lexer": "ipython3",
   "version": "3.10.16"
  }
 },
 "nbformat": 4,
 "nbformat_minor": 2
}
